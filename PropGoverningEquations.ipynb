{
  "nbformat": 4,
  "nbformat_minor": 0,
  "metadata": {
    "colab": {
      "name": "PropGoverningEquations.ipynb",
      "provenance": [],
      "collapsed_sections": [],
      "include_colab_link": true
    },
    "kernelspec": {
      "name": "python3",
      "display_name": "Python 3"
    }
  },
  "cells": [
    {
      "cell_type": "markdown",
      "metadata": {
        "id": "view-in-github",
        "colab_type": "text"
      },
      "source": [
        "<a href=\"https://colab.research.google.com/github/PatrickSampaioUSP/Propy/blob/master/PropGoverningEquations.ipynb\" target=\"_parent\"><img src=\"https://colab.research.google.com/assets/colab-badge.svg\" alt=\"Open In Colab\"/></a>"
      ]
    },
    {
      "cell_type": "markdown",
      "metadata": {
        "id": "WfNZ1T2T8S8I",
        "colab_type": "text"
      },
      "source": [
        "$r = aP^n$"
      ]
    },
    {
      "cell_type": "code",
      "metadata": {
        "id": "rq_-kwgF4-t6",
        "colab_type": "code",
        "colab": {}
      },
      "source": [
        "class PressureOutOfBoundException(Exception):\n",
        "  pass\n",
        "\n",
        "class KnsbBurnrate:\n",
        "\n",
        "  @classmethod\n",
        "  def pressure_coefficient(cls, pressure):\n",
        "    pressure_coefficient = 0\n",
        "    if .101 <= pressure < .807:\n",
        "      pressure_coefficient = 10.708\n",
        "    elif .807 <= pressure < 1.503:\n",
        "      pressure_coefficient = 8.763\n",
        "    elif 1.503 <= pressure < 3.792:\n",
        "      pressure_coefficient = 7.852\n",
        "    elif 3.792 <= pressure < 7.033:\n",
        "      pressure_coefficient = 3.907\n",
        "    elif 7.033 <= pressure < 10.67:\n",
        "      pressure_coefficient = 9.653\n",
        "    else:\n",
        "      raise PressureOutOfBoundException\n",
        "\n",
        "    return pressure_coefficient\n",
        "\n",
        "  @classmethod\n",
        "  def pressure_exponential_coef(cls, pressure):\n",
        "    pressure_exponential_coeficient = 0\n",
        "    if .101 <= pressure < .807:\n",
        "      pressure_exponential_coeficient = .625\n",
        "    elif .807 <= pressure < 1.503:\n",
        "      pressure_exponential_coeficient = -.314\n",
        "    elif 1.503 <= pressure < 3.792:\n",
        "      pressure_exponential_coeficient = -.013\n",
        "    elif 3.792 <= pressure < 7.033:\n",
        "      pressure_exponential_coeficient = .535\n",
        "    elif 7.033 <= pressure < 10.67:\n",
        "      pressure_exponential_coeficient = .064\n",
        "    else:\n",
        "      raise PressureOutOfBoundException\n",
        "\n",
        "    return pressure_exponential_coeficient\n",
        "\n",
        "  @classmethod\n",
        "  def calculate_burnrate(cls, pressure):\n",
        "    pressure_coef = cls.pressure_coefficient(pressure)\n",
        "    pressure_exponential_coef = cls.pressure_exponential_coef(pressure)\n",
        "\n",
        "    return pressure_coef*pressure**pressure_exponential_coef\n"
      ],
      "execution_count": 0,
      "outputs": []
    },
    {
      "cell_type": "code",
      "metadata": {
        "id": "GO2alafB4Lk2",
        "colab_type": "code",
        "colab": {}
      },
      "source": [
        "class Motor:\n",
        "  def __init__(self, r_throat, D0, d0, N, D_chamber, L=None):\n",
        "    self.r_throat = r_throat\n",
        "    self.d_ext = D0\n",
        "    self.d_int = d0\n",
        "    self.grain_number = N\n",
        "    self.D_chamber = D_chamber\n",
        "    self.l_grain = L/N if L else (3*self.d_ext + self.d_int)/2\n",
        "\n",
        "  @property\n",
        "  def throat_area(self):\n",
        "    return math.pi*self.r_throat**2\n",
        "\n",
        "  @property\n",
        "  def web(self):\n",
        "    return (self.d_ext-self.d_int)/2\n",
        "\n",
        "  @property\n",
        "  def chamber_length(self):\n",
        "    return self.grain_number*self.l_grain\n",
        "\n",
        "  @property\n",
        "  def chamber_volume(self):\n",
        "    return self.chamber_length*math.pi*(self.D_chamber**2)/4"
      ],
      "execution_count": 0,
      "outputs": []
    },
    {
      "cell_type": "code",
      "metadata": {
        "id": "8jNS1apFns6-",
        "colab_type": "code",
        "colab": {}
      },
      "source": [
        "import math\n",
        "import numpy as np\n",
        "import matplotlib.pyplot as plt\n",
        "from scipy.integrate import odeint, trapz\n",
        "\n",
        "############ Parameters #############\n",
        "k = 1.1362                                            #Razão de calores específicos\n",
        "cstar = 816.68                                        #Velocidade característica (m/s)\n",
        "rho_grain = 1700.                                     #Densidade do grão (kg/m^3)\n",
        "burn_rate = 7.72/1000                                 #Taxa de queima (m/s)\n",
        "R_universal = 8.314*(10**3)                           #Constante universal dos gases (J/(kg K))\n",
        "Mm = 39.9                                             #Massa molecular efetiva dos produtos de combustão (kg/kmol)\n",
        "R = R_universal/Mm                                    #Constante dos produtos de combustão\n",
        "T = 1600.                                             #Temperatura de combustão (K)\n",
        "p_atm = 1.01325*(10**5)                               #Pressão atmosférica (Pa)\n",
        "m_prod_chamber = 0.                                   #Massa dos produtos de combustão (kg)\n",
        "n_cf = 0.8                                            #Eficiência do coeficiente de empuxo\n",
        "g = 10\n",
        "\n",
        "\n",
        "################## FUNCOES ##################\n",
        "\n",
        "calculate_pressure_steady = lambda x: x*rho_grain*burn_rate*cstar\n",
        "calculate_nozzle_mass_flow = lambda pressure,throat_area: pressure*throat_area*math.sqrt(k/(R*T))*math.pow((2/(k+1)),((k+1)/(2*(k-1))))\n",
        "calculate_cf = lambda x: math.sqrt((2*k**2/(k-1))*((2/(k+1))**((k+1)/(k-1)))*(1-(p_atm/x)**((k-1)/k)))\n",
        "calculate_thrust = lambda C,throat_area,x: C*throat_area*x\n",
        "\n",
        "def calculate_current_prop_volume(grain_number, lgrain, d_ext, d_in):\n",
        "  propelent_volume = grain_number*(((d_ext**2 - d_in**2)/4)*math.pi*lgrain)\n",
        "  return propelent_volume\n",
        "\n",
        "def calculate_current_burn_area(d_ext, d_in, lgrain, n):\n",
        "  transversal_area = math.pi*(d_ext**2-d_in**2)*n/2\n",
        "  longitudinal_area = math.pi*lgrain*d_in*n\n",
        "  return longitudinal_area + transversal_area\n",
        "\n",
        "############### MODELO #################\n",
        "\n",
        "def modelo(y, t, motor):\n",
        "    #d0 \n",
        "    #lgrain\n",
        "    #pressure\n",
        "    #chamber combustion product mass\n",
        "    ydot = [0, 0, 0, 0]\n",
        "    if D0 > y[0]:\n",
        "      burn_rate = (10**-3)*KnsbBurnrate.calculate_burnrate(y[2]/(10**6))\n",
        "    else:\n",
        "      burn_rate = 0\n",
        "    ydot[0] = 2*burn_rate\n",
        "    ydot[1] = -1*ydot[0]\n",
        "    current_prop_volume = calculate_current_prop_volume(motor.grain_number, y[1], motor.d_ext, y[0])\n",
        "    free_volume = motor.chamber_volume - current_prop_volume\n",
        "    rho_o = y[3]/free_volume\n",
        "\n",
        "    burn_area = calculate_current_burn_area(D0, y[0], y[1], motor.grain_number)\n",
        "    \n",
        "    # massa que esta saindo dos grãos\n",
        "    m_dot = burn_area*rho_grain*burn_rate\n",
        "    nozzle_mass_flow = calculate_nozzle_mass_flow(y[2],motor.throat_area)\n",
        "    ydot[3] = m_dot - nozzle_mass_flow\n",
        "    ydot[2] = ((R*T)/free_volume) * (burn_area*burn_rate*(rho_grain-rho_o) - nozzle_mass_flow)\n",
        "    return ydot\n",
        "\n",
        "def solve(func, conditions, t, motor):\n",
        "    Y = odeint(func, conditions, t, (motor,))\n",
        "    return Y\n",
        "\n",
        "def post_processing(y, motor):\n",
        "  pressure_list = list(map(lambda x: x/10**5, y[:,2]))\n",
        "  mass_in_chamber_list = y[:,3]\n",
        "  grain_length = y[:,1]\n",
        "  grain_ext_d = y[:,0]\n",
        "\n",
        "\n",
        "  cf=np.zeros(len(pressure_list))\n",
        "  thrust_list = np.zeros(len(cf))\n",
        "  burn_rate_list = np.zeros(len(cf))\n",
        "\n",
        "  for j in range(len(pressure_list)):\n",
        "    cf[j]=n_cf*calculate_cf(pressure_list[j]*10**5)\n",
        "    thrust_list[j]=calculate_thrust(cf[j],motor.throat_area,pressure_list[j]*10**5)\n",
        "    burn_rate_list[j] = modelo(y[j,:],t,motor)[0]*1000/2\n",
        "\n",
        "  average_burn_rate = np.mean(burn_rate_list)\n",
        "  burn_time = motor.web*1000/average_burn_rate\n",
        "  kn_list = list(map(lambda x: calculate_current_burn_area(D0, x[0], x[1], N)/motor.throat_area, zip(grain_ext_d, grain_length)))\n",
        "  total_impulse = trapz(thrust_list, t)\n",
        "\n",
        "  specific_impulse = total_impulse/(g*motor.propelent_volume*rho_grain)\n",
        "  upper = math.pi*motor.chamber_length*(motor.web**2 + motor.web*motor.d_int)*specific_impulse*(average_burn_rate/10**3)*rho_grain*g\n",
        "  lower = motor.web*(1 + 2*(motor.chamber_length/motor.d_ext)) + (motor.chamber_length/motor.d_ext)*motor.d_int\n",
        "  f_avg = upper/lower\n",
        "\n",
        "  plt.figure(figsize=(16,8),dpi=80)\n",
        "  plt.subplot(4,1,1)\n",
        "  plt.plot(t,pressure_list)\n",
        "  plt.subplot(4,1,2)\n",
        "  plt.plot(t,kn_list)\n",
        "  plt.subplot(4,1,3)\n",
        "  plt.plot(t,thrust_list)\n",
        "  plt.subplot(4,1,4)\n",
        "  plt.plot(t,grain_ext_d)\n",
        "  plt.show()\n",
        "\n",
        "  print(f\"Empuxo máximo {round(np.max(thrust_list), 2)} N\")\n",
        "  print(f\"Pressão média {round(np.max(pressure_list), 2)} bar\")\n",
        "  print(f\"Empuxo médio {round(np.mean(thrust_list), 2)} N\")\n",
        "  print(f\"Empuxo médio {round(f_avg, 2)} N\")\n",
        "  print(f\"Impulso total {round(total_impulse)} Ns\")\n",
        "  print(f\"Pressão média {round(np.mean(pressure_list), 2)} bar\")\n",
        "  print(f\"Taxa de queima média {round(average_burn_rate, 2)} mm/s\")\n",
        "  print(f\"Tempo de queima {round(burn_time, 2)} s\")"
      ],
      "execution_count": 0,
      "outputs": []
    },
    {
      "cell_type": "markdown",
      "metadata": {
        "id": "vqjBLxtcZG3p",
        "colab_type": "text"
      },
      "source": [
        ""
      ]
    },
    {
      "cell_type": "markdown",
      "metadata": {
        "id": "82yr1GLKXCUB",
        "colab_type": "text"
      },
      "source": [
        "#### Motor Menotti"
      ]
    },
    {
      "cell_type": "code",
      "metadata": {
        "id": "UcpZs5P-W7P5",
        "colab_type": "code",
        "colab": {}
      },
      "source": [
        "r_throat = 12/1000                                    #Raio da garganta do bocal (m)\n",
        "D0 = 90./1000                                         #Diâmetro externo inicial (m)\n",
        "N = 5                                                 #Número de grãos\n",
        "d0 = 40./1000                                         #Diâmetro interno inicial (m)\n",
        "D_chamber = 104./1000                                 #Diâmetro interno da câmara (m)\n",
        "menotti = Motor(r_throat=r_throat, \n",
        "                D0=D0, \n",
        "                d0=d0, \n",
        "                N=N, \n",
        "                D_chamber=D_chamber)\n",
        "\n",
        "conditions = [menotti.d_int, menotti.l_grain, p_atm, m_prod_chamber]\n",
        "t = np.linspace(0,2.8,1000)\n",
        "y = solve(modelo, conditions, t, menotti)\n",
        "post_processing(y, menotti)"
      ],
      "execution_count": 0,
      "outputs": []
    },
    {
      "cell_type": "markdown",
      "metadata": {
        "id": "PtA9ceHfsbJX",
        "colab_type": "text"
      },
      "source": [
        "Pendencias:\n",
        "\n",
        "- $\\dot{M}_{nozzle}$ (check)\n",
        "- $V_{camara}$ (check)\n",
        "- $T_{combustion}$ (check)\n",
        "- $R = \\frac{\\bar{R}}{M_M}$ (check)\n",
        "- Tempo de queima e tail-off (check)\n",
        "- $C_f$ variável com altidude\n",
        "- Impulso total"
      ]
    }
  ]
}